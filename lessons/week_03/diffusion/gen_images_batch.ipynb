{
 "cells": [
  {
   "cell_type": "code",
   "execution_count": null,
   "id": "5a56358b",
   "metadata": {},
   "outputs": [],
   "source": [
    "import os\n",
    "from diffusers import StableDiffusionPipeline\n",
    "import torch"
   ]
  },
  {
   "cell_type": "code",
   "execution_count": null,
   "id": "fa39c1f9",
   "metadata": {},
   "outputs": [],
   "source": [
    "# Список промптов\n",
    "prompts = [\n",
    "    \"a cyberpunk city at night, neon lights, high detail\",\n",
    "    \"a fantasy landscape with dragons and floating islands\",\n",
    "    \"a cat astronaut floating in space, cartoon style\",\n",
    "    \"a medieval village in the morning fog\",\n",
    "    \"futuristic AI robot reading a book in a library\"\n",
    "]"
   ]
  },
  {
   "cell_type": "code",
   "execution_count": null,
   "id": "e23b7203",
   "metadata": {},
   "outputs": [],
   "source": [
    "# Убедимся, что директория для вывода есть\n",
    "output_dir = \"output\"\n",
    "os.makedirs(output_dir, exist_ok=True)"
   ]
  },
  {
   "cell_type": "code",
   "execution_count": null,
   "id": "2442bce0",
   "metadata": {},
   "outputs": [],
   "source": [
    "# Загрузка пайплайна\n",
    "print(\"⏳ Loading model...\")\n",
    "pipe = StableDiffusionPipeline.from_pretrained(\"runwayml/stable-diffusion-v1-5\")\n",
    "pipe = pipe.to(\"cpu\")  # используем CPU\n",
    "print(\"✅ Model loaded.\")"
   ]
  },
  {
   "cell_type": "code",
   "execution_count": null,
   "id": "2ca6368d",
   "metadata": {},
   "outputs": [],
   "source": [
    "# Генерация изображений\n",
    "for idx, prompt in enumerate(prompts, start=1):\n",
    "    print(f\"🎨 Generating image {idx}/{len(prompts)}: \\\"{prompt}\\\"\")\n",
    "    image = pipe(prompt, num_inference_steps=30).images[0]  # можно уменьшить шаги на CPU\n",
    "    image_path = os.path.join(output_dir, f\"img_{idx}.png\")\n",
    "    image.save(image_path)\n",
    "    print(f\"✅ Saved to {image_path}\")"
   ]
  },
  {
   "cell_type": "code",
   "execution_count": null,
   "id": "49c233ca",
   "metadata": {},
   "outputs": [],
   "source": [
    "print(\"\\n🏁 Done generating all images!\")"
   ]
  }
 ],
 "metadata": {
  "jupytext": {
   "cell_metadata_filter": "-all",
   "main_language": "python",
   "notebook_metadata_filter": "-all"
  }
 },
 "nbformat": 4,
 "nbformat_minor": 5
}
