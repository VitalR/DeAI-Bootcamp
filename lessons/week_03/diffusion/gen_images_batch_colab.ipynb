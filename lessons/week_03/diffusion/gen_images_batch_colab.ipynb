{
 "cells": [
  {
   "cell_type": "code",
   "execution_count": null,
   "id": "2999117f",
   "metadata": {},
   "outputs": [],
   "source": [
    "\"\"\"\n",
    "How to use this in Google Colab:\n",
    "\n",
    "1. Go to: https://colab.research.google.com/\n",
    "2. Paste this entire code into a code cell\n",
    "3. Upload a `prompts.txt` file with one prompt per line (or edit the default list)\n",
    "4. Go to: Runtime → Change runtime type → Select GPU\n",
    "5. Click ▶️ and wait for the images to be generated\n",
    "6. A ZIP file will be available for download at the end\n",
    "\"\"\""
   ]
  },
  {
   "cell_type": "code",
   "execution_count": null,
   "id": "923fe538",
   "metadata": {},
   "outputs": [],
   "source": [
    "# 🧱 Install dependencies\n",
    "!pip install -q diffusers==0.25.0 transformers==4.39.3 torch torchvision accelerate huggingface_hub==0.19.4 numpy<2.0"
   ]
  },
  {
   "cell_type": "code",
   "execution_count": null,
   "id": "b43cd68d",
   "metadata": {},
   "outputs": [],
   "source": [
    "from diffusers import StableDiffusionPipeline\n",
    "import torch\n",
    "import os\n",
    "from zipfile import ZipFile\n",
    "from PIL import Image"
   ]
  },
  {
   "cell_type": "code",
   "execution_count": null,
   "id": "6ce2c04d",
   "metadata": {},
   "outputs": [],
   "source": [
    "# 📌 Try to load prompts from file if available\n",
    "prompts = []\n",
    "if os.path.exists(\"prompts.txt\"):\n",
    "    with open(\"prompts.txt\", \"r\", encoding=\"utf-8\") as f:\n",
    "        prompts = [line.strip() for line in f if line.strip()]\n",
    "    print(f\"📄 Loaded {len(prompts)} prompts from prompts.txt\")\n",
    "else:\n",
    "    # fallback list\n",
    "    prompts = [\n",
    "        \"a futuristic city skyline at sunset, high detail\",\n",
    "        \"a dragon flying above the clouds\",\n",
    "        \"a cat reading a book in a cozy library\",\n",
    "        \"a cyberpunk samurai in a rainy alley\",\n",
    "        \"a peaceful forest with glowing mushrooms\"\n",
    "    ]\n",
    "    print(\"✍️ Using hardcoded prompt list\")"
   ]
  },
  {
   "cell_type": "code",
   "execution_count": null,
   "id": "a2e9c8eb",
   "metadata": {},
   "outputs": [],
   "source": [
    "# 💻 Set device\n",
    "device = \"cuda\" if torch.cuda.is_available() else \"cpu\"\n",
    "print(f\"🚀 Using device: {device}\")"
   ]
  },
  {
   "cell_type": "code",
   "execution_count": null,
   "id": "98e8dc95",
   "metadata": {},
   "outputs": [],
   "source": [
    "# 🔄 Load model\n",
    "pipe = StableDiffusionPipeline.from_pretrained(\"runwayml/stable-diffusion-v1-5\")\n",
    "pipe = pipe.to(device)\n",
    "pipe.enable_attention_slicing()"
   ]
  },
  {
   "cell_type": "code",
   "execution_count": null,
   "id": "36111344",
   "metadata": {},
   "outputs": [],
   "source": [
    "# 📁 Prepare output directory\n",
    "output_dir = \"output\"\n",
    "os.makedirs(output_dir, exist_ok=True)"
   ]
  },
  {
   "cell_type": "code",
   "execution_count": null,
   "id": "41798ba7",
   "metadata": {},
   "outputs": [],
   "source": [
    "# 🎨 Generate images\n",
    "for idx, prompt in enumerate(prompts, 1):\n",
    "    print(f\"[{idx}/{len(prompts)}] Generating: {prompt}\")\n",
    "    image = pipe(prompt, num_inference_steps=30).images[0]\n",
    "    image_path = os.path.join(output_dir, f\"image_{idx}.png\")\n",
    "    image.save(image_path)"
   ]
  },
  {
   "cell_type": "code",
   "execution_count": null,
   "id": "0635fa1d",
   "metadata": {},
   "outputs": [],
   "source": [
    "# 🗜️ Create zip archive\n",
    "zip_filename = \"generated_images.zip\"\n",
    "with ZipFile(zip_filename, \"w\") as zipf:\n",
    "    for filename in os.listdir(output_dir):\n",
    "        zipf.write(os.path.join(output_dir, filename), arcname=filename)"
   ]
  },
  {
   "cell_type": "code",
   "execution_count": null,
   "id": "1c787ca3",
   "metadata": {},
   "outputs": [],
   "source": [
    "print(f\"\\n✅ All images saved to '{output_dir}/' and zipped to '{zip_filename}'\")"
   ]
  }
 ],
 "metadata": {
  "jupytext": {
   "cell_metadata_filter": "-all",
   "main_language": "python",
   "notebook_metadata_filter": "-all"
  }
 },
 "nbformat": 4,
 "nbformat_minor": 5
}
